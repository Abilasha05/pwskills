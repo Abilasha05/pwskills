{
  "nbformat": 4,
  "nbformat_minor": 0,
  "metadata": {
    "colab": {
      "provenance": []
    },
    "kernelspec": {
      "name": "python3",
      "display_name": "Python 3"
    },
    "language_info": {
      "name": "python"
    }
  },
  "cells": [
    {
      "cell_type": "code",
      "execution_count": null,
      "metadata": {
        "id": "V6MTMl1cOrFu"
      },
      "outputs": [],
      "source": []
    },
    {
      "cell_type": "markdown",
      "source": [
        "# helo\n",
        "ewjwrjwrwkr\n",
        "wrkwkrlwr\n",
        "wwkrkw"
      ],
      "metadata": {
        "id": "1vPVeZ08OtLj"
      }
    }
  ]
}